{
 "cells": [
  {
   "cell_type": "code",
   "execution_count": 24,
   "id": "39ce746d",
   "metadata": {},
   "outputs": [],
   "source": [
    "# 📦 Imports\n",
    "import pandas as pd\n",
    "from sklearn.preprocessing import LabelEncoder\n",
    "from sklearn.impute import SimpleImputer"
   ]
  },
  {
   "cell_type": "code",
   "execution_count": 25,
   "id": "b6e66741",
   "metadata": {},
   "outputs": [],
   "source": [
    "# 📂 Load datasets\n",
    "train_df = pd.read_csv(\"train_v9rqX0R.csv\")\n",
    "test_df = pd.read_csv(\"test_AbJTz2l.csv\")"
   ]
  },
  {
   "cell_type": "code",
   "execution_count": 26,
   "id": "15b62dde",
   "metadata": {},
   "outputs": [],
   "source": [
    "# 🧪 Add placeholder target in test set\n",
    "test_df['Item_Outlet_Sales'] = None"
   ]
  },
  {
   "cell_type": "code",
   "execution_count": 27,
   "id": "498730ad",
   "metadata": {},
   "outputs": [],
   "source": [
    "\n",
    "# 🏷️ Add source column\n",
    "train_df['source'] = 'train'\n",
    "test_df['source'] = 'test'"
   ]
  },
  {
   "cell_type": "code",
   "execution_count": 28,
   "id": "70bb3f78",
   "metadata": {},
   "outputs": [],
   "source": [
    "# 🔀 Combine for uniform preprocessing\n",
    "combined_df = pd.concat([train_df, test_df], ignore_index=True)"
   ]
  },
  {
   "cell_type": "code",
   "execution_count": 29,
   "id": "e0e99ea5",
   "metadata": {},
   "outputs": [],
   "source": [
    "# 🧹 Drop ID columns\n",
    "combined_df.drop(['Item_Identifier', 'Outlet_Identifier','Item_Visibility'], axis=1, inplace=True)\n"
   ]
  },
  {
   "cell_type": "code",
   "execution_count": null,
   "id": "eeaa64dc",
   "metadata": {},
   "outputs": [],
   "source": []
  },
  {
   "cell_type": "code",
   "execution_count": 30,
   "id": "07b4634e",
   "metadata": {},
   "outputs": [],
   "source": [
    "# 🩹 Fix categorical inconsistencies\n",
    "combined_df['Item_Fat_Content'] = combined_df['Item_Fat_Content'].replace({\n",
    "    'low fat': 'Low Fat',\n",
    "    'LF': 'Low Fat',\n",
    "    'reg': 'Regular'\n",
    "})"
   ]
  },
  {
   "cell_type": "code",
   "execution_count": 31,
   "id": "3f74e07e",
   "metadata": {},
   "outputs": [],
   "source": [
    "# ⚖️ Impute Item_Weight using Item_Type group mean\n",
    "combined_df['Item_Weight'] = combined_df.groupby('Item_Type')['Item_Weight'].transform(\n",
    "    lambda x: x.fillna(x.mean())\n",
    ")"
   ]
  },
  {
   "cell_type": "code",
   "execution_count": 32,
   "id": "ff39809b",
   "metadata": {},
   "outputs": [],
   "source": [
    "# 🏬 Impute Outlet_Size using mode from Outlet_Type and Location group\n",
    "combined_df['Outlet_Size'] = combined_df.groupby(\n",
    "    ['Outlet_Type', 'Outlet_Location_Type']\n",
    ")['Outlet_Size'].transform(lambda x: x.fillna(x.mode()[0] if not x.mode().empty else 'Small'))\n"
   ]
  },
  {
   "cell_type": "code",
   "execution_count": 33,
   "id": "24581dfa",
   "metadata": {},
   "outputs": [],
   "source": [
    "# 🧼 Safety impute numeric columns\n",
    "num_cols = combined_df.select_dtypes(include=['float64', 'int64']).columns\n",
    "num_imputer = SimpleImputer(strategy='mean')\n",
    "combined_df[num_cols] = num_imputer.fit_transform(combined_df[num_cols])\n"
   ]
  },
  {
   "cell_type": "code",
   "execution_count": 34,
   "id": "0ed607a2",
   "metadata": {},
   "outputs": [],
   "source": [
    "\n",
    "# 🧼 Safety impute categorical columns\n",
    "cat_cols = combined_df.select_dtypes(include='object').columns\n",
    "cat_imputer = SimpleImputer(strategy='most_frequent')\n",
    "combined_df[cat_cols] = cat_imputer.fit_transform(combined_df[cat_cols])\n"
   ]
  },
  {
   "cell_type": "code",
   "execution_count": 35,
   "id": "83e31070",
   "metadata": {},
   "outputs": [],
   "source": [
    "# 🔤 Label Encoding (exclude source)\n",
    "categorical_cols = [col for col in cat_cols if col != 'source']\n",
    "le = LabelEncoder()\n",
    "for col in categorical_cols:\n",
    "    combined_df[col] = le.fit_transform(combined_df[col])\n"
   ]
  },
  {
   "cell_type": "code",
   "execution_count": 36,
   "id": "8d8f3380",
   "metadata": {},
   "outputs": [],
   "source": [
    "# 🔁 Split back into train and test\n",
    "final_train = combined_df[combined_df['source'] == 'train'].drop('source', axis=1)\n",
    "final_test = combined_df[combined_df['source'] == 'test'].drop(['source', 'Item_Outlet_Sales'], axis=1)\n"
   ]
  },
  {
   "cell_type": "code",
   "execution_count": 37,
   "id": "00ce45ce",
   "metadata": {},
   "outputs": [
    {
     "name": "stdout",
     "output_type": "stream",
     "text": [
      "✅ Preprocessing complete. Files saved as 'processed_train.csv' and 'processed_test.csv'\n"
     ]
    }
   ],
   "source": [
    "# 💾 Save processed data\n",
    "final_train.to_csv(\"processed_train.csv\", index=False)\n",
    "final_test.to_csv(\"processed_test.csv\", index=False)\n",
    "\n",
    "print(\"✅ Preprocessing complete. Files saved as 'processed_train.csv' and 'processed_test.csv'\")\n"
   ]
  },
  {
   "cell_type": "code",
   "execution_count": 38,
   "id": "cd775f78",
   "metadata": {},
   "outputs": [],
   "source": [
    "import pandas as pd\n",
    "from pycaret.regression import setup, compare_models, tune_model, finalize_model, save_model\n"
   ]
  },
  {
   "cell_type": "code",
   "execution_count": 39,
   "id": "1ec3b7d0",
   "metadata": {},
   "outputs": [],
   "source": [
    "# Load preprocessed data\n",
    "train_df = pd.read_csv(\"processed_train.csv\")\n"
   ]
  },
  {
   "cell_type": "code",
   "execution_count": 40,
   "id": "55046557",
   "metadata": {},
   "outputs": [],
   "source": [
    "# Initialize PyCaret regression setup\n",
    "s = setup(\n",
    "    data=train_df,\n",
    "    target='Item_Outlet_Sales',\n",
    "    session_id=123,\n",
    "    verbose=False\n",
    ")"
   ]
  },
  {
   "cell_type": "code",
   "execution_count": 42,
   "id": "25163c28",
   "metadata": {},
   "outputs": [
    {
     "data": {
      "text/html": [],
      "text/plain": [
       "<IPython.core.display.HTML object>"
      ]
     },
     "metadata": {},
     "output_type": "display_data"
    },
    {
     "data": {
      "text/html": [
       "<style type=\"text/css\">\n",
       "#T_dcae4 th {\n",
       "  text-align: left;\n",
       "}\n",
       "#T_dcae4_row0_col0, #T_dcae4_row0_col5, #T_dcae4_row1_col0, #T_dcae4_row1_col1, #T_dcae4_row1_col2, #T_dcae4_row1_col3, #T_dcae4_row1_col4, #T_dcae4_row1_col6, #T_dcae4_row2_col0, #T_dcae4_row2_col1, #T_dcae4_row2_col2, #T_dcae4_row2_col3, #T_dcae4_row2_col4, #T_dcae4_row2_col5, #T_dcae4_row2_col6, #T_dcae4_row3_col0, #T_dcae4_row3_col1, #T_dcae4_row3_col2, #T_dcae4_row3_col3, #T_dcae4_row3_col4, #T_dcae4_row3_col5, #T_dcae4_row3_col6, #T_dcae4_row4_col0, #T_dcae4_row4_col1, #T_dcae4_row4_col2, #T_dcae4_row4_col3, #T_dcae4_row4_col4, #T_dcae4_row4_col5, #T_dcae4_row4_col6, #T_dcae4_row5_col0, #T_dcae4_row5_col1, #T_dcae4_row5_col2, #T_dcae4_row5_col3, #T_dcae4_row5_col4, #T_dcae4_row5_col5, #T_dcae4_row5_col6, #T_dcae4_row6_col0, #T_dcae4_row6_col1, #T_dcae4_row6_col2, #T_dcae4_row6_col3, #T_dcae4_row6_col4, #T_dcae4_row6_col5, #T_dcae4_row6_col6, #T_dcae4_row7_col0, #T_dcae4_row7_col1, #T_dcae4_row7_col2, #T_dcae4_row7_col3, #T_dcae4_row7_col4, #T_dcae4_row7_col5, #T_dcae4_row7_col6, #T_dcae4_row8_col0, #T_dcae4_row8_col1, #T_dcae4_row8_col2, #T_dcae4_row8_col3, #T_dcae4_row8_col4, #T_dcae4_row8_col5, #T_dcae4_row8_col6, #T_dcae4_row9_col0, #T_dcae4_row9_col1, #T_dcae4_row9_col2, #T_dcae4_row9_col3, #T_dcae4_row9_col4, #T_dcae4_row9_col5, #T_dcae4_row9_col6, #T_dcae4_row10_col0, #T_dcae4_row10_col1, #T_dcae4_row10_col2, #T_dcae4_row10_col3, #T_dcae4_row10_col4, #T_dcae4_row10_col5, #T_dcae4_row10_col6, #T_dcae4_row11_col0, #T_dcae4_row11_col1, #T_dcae4_row11_col2, #T_dcae4_row11_col3, #T_dcae4_row11_col4, #T_dcae4_row11_col5, #T_dcae4_row11_col6, #T_dcae4_row12_col0, #T_dcae4_row12_col1, #T_dcae4_row12_col2, #T_dcae4_row12_col3, #T_dcae4_row12_col4, #T_dcae4_row12_col5, #T_dcae4_row12_col6, #T_dcae4_row13_col0, #T_dcae4_row13_col1, #T_dcae4_row13_col2, #T_dcae4_row13_col3, #T_dcae4_row13_col4, #T_dcae4_row13_col5, #T_dcae4_row13_col6, #T_dcae4_row14_col0, #T_dcae4_row14_col1, #T_dcae4_row14_col2, #T_dcae4_row14_col3, #T_dcae4_row14_col4, #T_dcae4_row14_col5, #T_dcae4_row14_col6, #T_dcae4_row15_col0, #T_dcae4_row15_col1, #T_dcae4_row15_col2, #T_dcae4_row15_col3, #T_dcae4_row15_col4, #T_dcae4_row15_col5, #T_dcae4_row15_col6, #T_dcae4_row16_col0, #T_dcae4_row16_col1, #T_dcae4_row16_col2, #T_dcae4_row16_col3, #T_dcae4_row16_col4, #T_dcae4_row16_col5, #T_dcae4_row16_col6, #T_dcae4_row17_col0, #T_dcae4_row17_col1, #T_dcae4_row17_col2, #T_dcae4_row17_col3, #T_dcae4_row17_col4, #T_dcae4_row17_col5, #T_dcae4_row17_col6 {\n",
       "  text-align: left;\n",
       "}\n",
       "#T_dcae4_row0_col1, #T_dcae4_row0_col2, #T_dcae4_row0_col3, #T_dcae4_row0_col4, #T_dcae4_row0_col6, #T_dcae4_row1_col5 {\n",
       "  text-align: left;\n",
       "  background-color: yellow;\n",
       "}\n",
       "#T_dcae4_row0_col7, #T_dcae4_row1_col7, #T_dcae4_row2_col7, #T_dcae4_row3_col7, #T_dcae4_row4_col7, #T_dcae4_row5_col7, #T_dcae4_row6_col7, #T_dcae4_row7_col7, #T_dcae4_row9_col7, #T_dcae4_row10_col7, #T_dcae4_row11_col7, #T_dcae4_row13_col7, #T_dcae4_row14_col7, #T_dcae4_row15_col7, #T_dcae4_row16_col7, #T_dcae4_row17_col7 {\n",
       "  text-align: left;\n",
       "  background-color: lightgrey;\n",
       "}\n",
       "#T_dcae4_row8_col7, #T_dcae4_row12_col7 {\n",
       "  text-align: left;\n",
       "  background-color: yellow;\n",
       "  background-color: lightgrey;\n",
       "}\n",
       "</style>\n",
       "<table id=\"T_dcae4\">\n",
       "  <thead>\n",
       "    <tr>\n",
       "      <th class=\"blank level0\" >&nbsp;</th>\n",
       "      <th id=\"T_dcae4_level0_col0\" class=\"col_heading level0 col0\" >Model</th>\n",
       "      <th id=\"T_dcae4_level0_col1\" class=\"col_heading level0 col1\" >MAE</th>\n",
       "      <th id=\"T_dcae4_level0_col2\" class=\"col_heading level0 col2\" >MSE</th>\n",
       "      <th id=\"T_dcae4_level0_col3\" class=\"col_heading level0 col3\" >RMSE</th>\n",
       "      <th id=\"T_dcae4_level0_col4\" class=\"col_heading level0 col4\" >R2</th>\n",
       "      <th id=\"T_dcae4_level0_col5\" class=\"col_heading level0 col5\" >RMSLE</th>\n",
       "      <th id=\"T_dcae4_level0_col6\" class=\"col_heading level0 col6\" >MAPE</th>\n",
       "      <th id=\"T_dcae4_level0_col7\" class=\"col_heading level0 col7\" >TT (Sec)</th>\n",
       "    </tr>\n",
       "  </thead>\n",
       "  <tbody>\n",
       "    <tr>\n",
       "      <th id=\"T_dcae4_level0_row0\" class=\"row_heading level0 row0\" >gbr</th>\n",
       "      <td id=\"T_dcae4_row0_col0\" class=\"data row0 col0\" >Gradient Boosting Regressor</td>\n",
       "      <td id=\"T_dcae4_row0_col1\" class=\"data row0 col1\" >757.2546</td>\n",
       "      <td id=\"T_dcae4_row0_col2\" class=\"data row0 col2\" >1166436.2890</td>\n",
       "      <td id=\"T_dcae4_row0_col3\" class=\"data row0 col3\" >1078.7933</td>\n",
       "      <td id=\"T_dcae4_row0_col4\" class=\"data row0 col4\" >0.5916</td>\n",
       "      <td id=\"T_dcae4_row0_col5\" class=\"data row0 col5\" >0.5542</td>\n",
       "      <td id=\"T_dcae4_row0_col6\" class=\"data row0 col6\" >0.5631</td>\n",
       "      <td id=\"T_dcae4_row0_col7\" class=\"data row0 col7\" >0.2910</td>\n",
       "    </tr>\n",
       "    <tr>\n",
       "      <th id=\"T_dcae4_level0_row1\" class=\"row_heading level0 row1\" >lightgbm</th>\n",
       "      <td id=\"T_dcae4_row1_col0\" class=\"data row1 col0\" >Light Gradient Boosting Machine</td>\n",
       "      <td id=\"T_dcae4_row1_col1\" class=\"data row1 col1\" >779.0081</td>\n",
       "      <td id=\"T_dcae4_row1_col2\" class=\"data row1 col2\" >1240902.6535</td>\n",
       "      <td id=\"T_dcae4_row1_col3\" class=\"data row1 col3\" >1112.2834</td>\n",
       "      <td id=\"T_dcae4_row1_col4\" class=\"data row1 col4\" >0.5657</td>\n",
       "      <td id=\"T_dcae4_row1_col5\" class=\"data row1 col5\" >0.5541</td>\n",
       "      <td id=\"T_dcae4_row1_col6\" class=\"data row1 col6\" >0.5682</td>\n",
       "      <td id=\"T_dcae4_row1_col7\" class=\"data row1 col7\" >0.1210</td>\n",
       "    </tr>\n",
       "    <tr>\n",
       "      <th id=\"T_dcae4_level0_row2\" class=\"row_heading level0 row2\" >rf</th>\n",
       "      <td id=\"T_dcae4_row2_col0\" class=\"data row2 col0\" >Random Forest Regressor</td>\n",
       "      <td id=\"T_dcae4_row2_col1\" class=\"data row2 col1\" >805.6717</td>\n",
       "      <td id=\"T_dcae4_row2_col2\" class=\"data row2 col2\" >1348019.2991</td>\n",
       "      <td id=\"T_dcae4_row2_col3\" class=\"data row2 col3\" >1159.0041</td>\n",
       "      <td id=\"T_dcae4_row2_col4\" class=\"data row2 col4\" >0.5283</td>\n",
       "      <td id=\"T_dcae4_row2_col5\" class=\"data row2 col5\" >0.5597</td>\n",
       "      <td id=\"T_dcae4_row2_col6\" class=\"data row2 col6\" >0.5753</td>\n",
       "      <td id=\"T_dcae4_row2_col7\" class=\"data row2 col7\" >0.9890</td>\n",
       "    </tr>\n",
       "    <tr>\n",
       "      <th id=\"T_dcae4_level0_row3\" class=\"row_heading level0 row3\" >lr</th>\n",
       "      <td id=\"T_dcae4_row3_col0\" class=\"data row3 col0\" >Linear Regression</td>\n",
       "      <td id=\"T_dcae4_row3_col1\" class=\"data row3 col1\" >908.3328</td>\n",
       "      <td id=\"T_dcae4_row3_col2\" class=\"data row3 col2\" >1464613.6000</td>\n",
       "      <td id=\"T_dcae4_row3_col3\" class=\"data row3 col3\" >1209.1848</td>\n",
       "      <td id=\"T_dcae4_row3_col4\" class=\"data row3 col4\" >0.4872</td>\n",
       "      <td id=\"T_dcae4_row3_col5\" class=\"data row3 col5\" >0.7498</td>\n",
       "      <td id=\"T_dcae4_row3_col6\" class=\"data row3 col6\" >0.9998</td>\n",
       "      <td id=\"T_dcae4_row3_col7\" class=\"data row3 col7\" >0.0270</td>\n",
       "    </tr>\n",
       "    <tr>\n",
       "      <th id=\"T_dcae4_level0_row4\" class=\"row_heading level0 row4\" >lasso</th>\n",
       "      <td id=\"T_dcae4_row4_col0\" class=\"data row4 col0\" >Lasso Regression</td>\n",
       "      <td id=\"T_dcae4_row4_col1\" class=\"data row4 col1\" >908.2335</td>\n",
       "      <td id=\"T_dcae4_row4_col2\" class=\"data row4 col2\" >1464614.2250</td>\n",
       "      <td id=\"T_dcae4_row4_col3\" class=\"data row4 col3\" >1209.1866</td>\n",
       "      <td id=\"T_dcae4_row4_col4\" class=\"data row4 col4\" >0.4872</td>\n",
       "      <td id=\"T_dcae4_row4_col5\" class=\"data row4 col5\" >0.7479</td>\n",
       "      <td id=\"T_dcae4_row4_col6\" class=\"data row4 col6\" >0.9992</td>\n",
       "      <td id=\"T_dcae4_row4_col7\" class=\"data row4 col7\" >0.0170</td>\n",
       "    </tr>\n",
       "    <tr>\n",
       "      <th id=\"T_dcae4_level0_row5\" class=\"row_heading level0 row5\" >ridge</th>\n",
       "      <td id=\"T_dcae4_row5_col0\" class=\"data row5 col0\" >Ridge Regression</td>\n",
       "      <td id=\"T_dcae4_row5_col1\" class=\"data row5 col1\" >908.3195</td>\n",
       "      <td id=\"T_dcae4_row5_col2\" class=\"data row5 col2\" >1464612.3625</td>\n",
       "      <td id=\"T_dcae4_row5_col3\" class=\"data row5 col3\" >1209.1843</td>\n",
       "      <td id=\"T_dcae4_row5_col4\" class=\"data row5 col4\" >0.4872</td>\n",
       "      <td id=\"T_dcae4_row5_col5\" class=\"data row5 col5\" >0.7502</td>\n",
       "      <td id=\"T_dcae4_row5_col6\" class=\"data row5 col6\" >0.9997</td>\n",
       "      <td id=\"T_dcae4_row5_col7\" class=\"data row5 col7\" >0.0170</td>\n",
       "    </tr>\n",
       "    <tr>\n",
       "      <th id=\"T_dcae4_level0_row6\" class=\"row_heading level0 row6\" >llar</th>\n",
       "      <td id=\"T_dcae4_row6_col0\" class=\"data row6 col0\" >Lasso Least Angle Regression</td>\n",
       "      <td id=\"T_dcae4_row6_col1\" class=\"data row6 col1\" >908.2334</td>\n",
       "      <td id=\"T_dcae4_row6_col2\" class=\"data row6 col2\" >1464614.0000</td>\n",
       "      <td id=\"T_dcae4_row6_col3\" class=\"data row6 col3\" >1209.1865</td>\n",
       "      <td id=\"T_dcae4_row6_col4\" class=\"data row6 col4\" >0.4872</td>\n",
       "      <td id=\"T_dcae4_row6_col5\" class=\"data row6 col5\" >0.7479</td>\n",
       "      <td id=\"T_dcae4_row6_col6\" class=\"data row6 col6\" >0.9992</td>\n",
       "      <td id=\"T_dcae4_row6_col7\" class=\"data row6 col7\" >0.0160</td>\n",
       "    </tr>\n",
       "    <tr>\n",
       "      <th id=\"T_dcae4_level0_row7\" class=\"row_heading level0 row7\" >br</th>\n",
       "      <td id=\"T_dcae4_row7_col0\" class=\"data row7 col0\" >Bayesian Ridge</td>\n",
       "      <td id=\"T_dcae4_row7_col1\" class=\"data row7 col1\" >908.1841</td>\n",
       "      <td id=\"T_dcae4_row7_col2\" class=\"data row7 col2\" >1464619.8125</td>\n",
       "      <td id=\"T_dcae4_row7_col3\" class=\"data row7 col3\" >1209.1872</td>\n",
       "      <td id=\"T_dcae4_row7_col4\" class=\"data row7 col4\" >0.4872</td>\n",
       "      <td id=\"T_dcae4_row7_col5\" class=\"data row7 col5\" >0.7480</td>\n",
       "      <td id=\"T_dcae4_row7_col6\" class=\"data row7 col6\" >0.9991</td>\n",
       "      <td id=\"T_dcae4_row7_col7\" class=\"data row7 col7\" >0.0180</td>\n",
       "    </tr>\n",
       "    <tr>\n",
       "      <th id=\"T_dcae4_level0_row8\" class=\"row_heading level0 row8\" >lar</th>\n",
       "      <td id=\"T_dcae4_row8_col0\" class=\"data row8 col0\" >Least Angle Regression</td>\n",
       "      <td id=\"T_dcae4_row8_col1\" class=\"data row8 col1\" >911.1156</td>\n",
       "      <td id=\"T_dcae4_row8_col2\" class=\"data row8 col2\" >1470306.4625</td>\n",
       "      <td id=\"T_dcae4_row8_col3\" class=\"data row8 col3\" >1211.5346</td>\n",
       "      <td id=\"T_dcae4_row8_col4\" class=\"data row8 col4\" >0.4852</td>\n",
       "      <td id=\"T_dcae4_row8_col5\" class=\"data row8 col5\" >0.7546</td>\n",
       "      <td id=\"T_dcae4_row8_col6\" class=\"data row8 col6\" >1.0084</td>\n",
       "      <td id=\"T_dcae4_row8_col7\" class=\"data row8 col7\" >0.0150</td>\n",
       "    </tr>\n",
       "    <tr>\n",
       "      <th id=\"T_dcae4_level0_row9\" class=\"row_heading level0 row9\" >ada</th>\n",
       "      <td id=\"T_dcae4_row9_col0\" class=\"data row9 col0\" >AdaBoost Regressor</td>\n",
       "      <td id=\"T_dcae4_row9_col1\" class=\"data row9 col1\" >939.1972</td>\n",
       "      <td id=\"T_dcae4_row9_col2\" class=\"data row9 col2\" >1472254.6620</td>\n",
       "      <td id=\"T_dcae4_row9_col3\" class=\"data row9 col3\" >1212.1507</td>\n",
       "      <td id=\"T_dcae4_row9_col4\" class=\"data row9 col4\" >0.4826</td>\n",
       "      <td id=\"T_dcae4_row9_col5\" class=\"data row9 col5\" >0.8311</td>\n",
       "      <td id=\"T_dcae4_row9_col6\" class=\"data row9 col6\" >1.2887</td>\n",
       "      <td id=\"T_dcae4_row9_col7\" class=\"data row9 col7\" >0.1000</td>\n",
       "    </tr>\n",
       "    <tr>\n",
       "      <th id=\"T_dcae4_level0_row10\" class=\"row_heading level0 row10\" >huber</th>\n",
       "      <td id=\"T_dcae4_row10_col0\" class=\"data row10 col0\" >Huber Regressor</td>\n",
       "      <td id=\"T_dcae4_row10_col1\" class=\"data row10 col1\" >904.7668</td>\n",
       "      <td id=\"T_dcae4_row10_col2\" class=\"data row10 col2\" >1485194.5058</td>\n",
       "      <td id=\"T_dcae4_row10_col3\" class=\"data row10 col3\" >1217.8108</td>\n",
       "      <td id=\"T_dcae4_row10_col4\" class=\"data row10 col4\" >0.4800</td>\n",
       "      <td id=\"T_dcae4_row10_col5\" class=\"data row10 col5\" >0.7447</td>\n",
       "      <td id=\"T_dcae4_row10_col6\" class=\"data row10 col6\" >0.9516</td>\n",
       "      <td id=\"T_dcae4_row10_col7\" class=\"data row10 col7\" >0.0670</td>\n",
       "    </tr>\n",
       "    <tr>\n",
       "      <th id=\"T_dcae4_level0_row11\" class=\"row_heading level0 row11\" >et</th>\n",
       "      <td id=\"T_dcae4_row11_col0\" class=\"data row11 col0\" >Extra Trees Regressor</td>\n",
       "      <td id=\"T_dcae4_row11_col1\" class=\"data row11 col1\" >839.6501</td>\n",
       "      <td id=\"T_dcae4_row11_col2\" class=\"data row11 col2\" >1503258.0218</td>\n",
       "      <td id=\"T_dcae4_row11_col3\" class=\"data row11 col3\" >1223.5964</td>\n",
       "      <td id=\"T_dcae4_row11_col4\" class=\"data row11 col4\" >0.4737</td>\n",
       "      <td id=\"T_dcae4_row11_col5\" class=\"data row11 col5\" >0.5786</td>\n",
       "      <td id=\"T_dcae4_row11_col6\" class=\"data row11 col6\" >0.5902</td>\n",
       "      <td id=\"T_dcae4_row11_col7\" class=\"data row11 col7\" >0.6740</td>\n",
       "    </tr>\n",
       "    <tr>\n",
       "      <th id=\"T_dcae4_level0_row12\" class=\"row_heading level0 row12\" >en</th>\n",
       "      <td id=\"T_dcae4_row12_col0\" class=\"data row12 col0\" >Elastic Net</td>\n",
       "      <td id=\"T_dcae4_row12_col1\" class=\"data row12 col1\" >932.3161</td>\n",
       "      <td id=\"T_dcae4_row12_col2\" class=\"data row12 col2\" >1582803.0000</td>\n",
       "      <td id=\"T_dcae4_row12_col3\" class=\"data row12 col3\" >1257.0050</td>\n",
       "      <td id=\"T_dcae4_row12_col4\" class=\"data row12 col4\" >0.4461</td>\n",
       "      <td id=\"T_dcae4_row12_col5\" class=\"data row12 col5\" >0.7810</td>\n",
       "      <td id=\"T_dcae4_row12_col6\" class=\"data row12 col6\" >1.0679</td>\n",
       "      <td id=\"T_dcae4_row12_col7\" class=\"data row12 col7\" >0.0150</td>\n",
       "    </tr>\n",
       "    <tr>\n",
       "      <th id=\"T_dcae4_level0_row13\" class=\"row_heading level0 row13\" >knn</th>\n",
       "      <td id=\"T_dcae4_row13_col0\" class=\"data row13 col0\" >K Neighbors Regressor</td>\n",
       "      <td id=\"T_dcae4_row13_col1\" class=\"data row13 col1\" >953.3100</td>\n",
       "      <td id=\"T_dcae4_row13_col2\" class=\"data row13 col2\" >1758083.0000</td>\n",
       "      <td id=\"T_dcae4_row13_col3\" class=\"data row13 col3\" >1324.4133</td>\n",
       "      <td id=\"T_dcae4_row13_col4\" class=\"data row13 col4\" >0.3836</td>\n",
       "      <td id=\"T_dcae4_row13_col5\" class=\"data row13 col5\" >0.7763</td>\n",
       "      <td id=\"T_dcae4_row13_col6\" class=\"data row13 col6\" >1.0534</td>\n",
       "      <td id=\"T_dcae4_row13_col7\" class=\"data row13 col7\" >0.0270</td>\n",
       "    </tr>\n",
       "    <tr>\n",
       "      <th id=\"T_dcae4_level0_row14\" class=\"row_heading level0 row14\" >omp</th>\n",
       "      <td id=\"T_dcae4_row14_col0\" class=\"data row14 col0\" >Orthogonal Matching Pursuit</td>\n",
       "      <td id=\"T_dcae4_row14_col1\" class=\"data row14 col1\" >1022.1725</td>\n",
       "      <td id=\"T_dcae4_row14_col2\" class=\"data row14 col2\" >1938642.9750</td>\n",
       "      <td id=\"T_dcae4_row14_col3\" class=\"data row14 col3\" >1391.0247</td>\n",
       "      <td id=\"T_dcae4_row14_col4\" class=\"data row14 col4\" >0.3218</td>\n",
       "      <td id=\"T_dcae4_row14_col5\" class=\"data row14 col5\" >0.8943</td>\n",
       "      <td id=\"T_dcae4_row14_col6\" class=\"data row14 col6\" >1.4212</td>\n",
       "      <td id=\"T_dcae4_row14_col7\" class=\"data row14 col7\" >0.0190</td>\n",
       "    </tr>\n",
       "    <tr>\n",
       "      <th id=\"T_dcae4_level0_row15\" class=\"row_heading level0 row15\" >dt</th>\n",
       "      <td id=\"T_dcae4_row15_col0\" class=\"data row15 col0\" >Decision Tree Regressor</td>\n",
       "      <td id=\"T_dcae4_row15_col1\" class=\"data row15 col1\" >1077.5702</td>\n",
       "      <td id=\"T_dcae4_row15_col2\" class=\"data row15 col2\" >2434353.0943</td>\n",
       "      <td id=\"T_dcae4_row15_col3\" class=\"data row15 col3\" >1558.0983</td>\n",
       "      <td id=\"T_dcae4_row15_col4\" class=\"data row15 col4\" >0.1477</td>\n",
       "      <td id=\"T_dcae4_row15_col5\" class=\"data row15 col5\" >0.7529</td>\n",
       "      <td id=\"T_dcae4_row15_col6\" class=\"data row15 col6\" >0.7106</td>\n",
       "      <td id=\"T_dcae4_row15_col7\" class=\"data row15 col7\" >0.0320</td>\n",
       "    </tr>\n",
       "    <tr>\n",
       "      <th id=\"T_dcae4_level0_row16\" class=\"row_heading level0 row16\" >par</th>\n",
       "      <td id=\"T_dcae4_row16_col0\" class=\"data row16 col0\" >Passive Aggressive Regressor</td>\n",
       "      <td id=\"T_dcae4_row16_col1\" class=\"data row16 col1\" >1201.6258</td>\n",
       "      <td id=\"T_dcae4_row16_col2\" class=\"data row16 col2\" >2470642.5658</td>\n",
       "      <td id=\"T_dcae4_row16_col3\" class=\"data row16 col3\" >1566.4548</td>\n",
       "      <td id=\"T_dcae4_row16_col4\" class=\"data row16 col4\" >0.1356</td>\n",
       "      <td id=\"T_dcae4_row16_col5\" class=\"data row16 col5\" >1.1076</td>\n",
       "      <td id=\"T_dcae4_row16_col6\" class=\"data row16 col6\" >1.3984</td>\n",
       "      <td id=\"T_dcae4_row16_col7\" class=\"data row16 col7\" >0.0200</td>\n",
       "    </tr>\n",
       "    <tr>\n",
       "      <th id=\"T_dcae4_level0_row17\" class=\"row_heading level0 row17\" >dummy</th>\n",
       "      <td id=\"T_dcae4_row17_col0\" class=\"data row17 col0\" >Dummy Regressor</td>\n",
       "      <td id=\"T_dcae4_row17_col1\" class=\"data row17 col1\" >1338.4033</td>\n",
       "      <td id=\"T_dcae4_row17_col2\" class=\"data row17 col2\" >2866558.0000</td>\n",
       "      <td id=\"T_dcae4_row17_col3\" class=\"data row17 col3\" >1692.0155</td>\n",
       "      <td id=\"T_dcae4_row17_col4\" class=\"data row17 col4\" >-0.0030</td>\n",
       "      <td id=\"T_dcae4_row17_col5\" class=\"data row17 col5\" >1.0829</td>\n",
       "      <td id=\"T_dcae4_row17_col6\" class=\"data row17 col6\" >2.1787</td>\n",
       "      <td id=\"T_dcae4_row17_col7\" class=\"data row17 col7\" >0.0160</td>\n",
       "    </tr>\n",
       "  </tbody>\n",
       "</table>\n"
      ],
      "text/plain": [
       "<pandas.io.formats.style.Styler at 0x224fc4e8940>"
      ]
     },
     "metadata": {},
     "output_type": "display_data"
    },
    {
     "data": {
      "application/vnd.jupyter.widget-view+json": {
       "model_id": "04b543119a0a467f80e0d60c33d75bc1",
       "version_major": 2,
       "version_minor": 0
      },
      "text/plain": [
       "Processing:   0%|          | 0/77 [00:00<?, ?it/s]"
      ]
     },
     "metadata": {},
     "output_type": "display_data"
    }
   ],
   "source": [
    "# Compare and select best model\n",
    "best_model = compare_models()"
   ]
  },
  {
   "cell_type": "code",
   "execution_count": 43,
   "id": "6bfa37a4",
   "metadata": {},
   "outputs": [
    {
     "data": {
      "text/html": [],
      "text/plain": [
       "<IPython.core.display.HTML object>"
      ]
     },
     "metadata": {},
     "output_type": "display_data"
    },
    {
     "data": {
      "text/html": [],
      "text/plain": [
       "<IPython.core.display.HTML object>"
      ]
     },
     "metadata": {},
     "output_type": "display_data"
    },
    {
     "data": {
      "text/html": [],
      "text/plain": [
       "<IPython.core.display.HTML object>"
      ]
     },
     "metadata": {},
     "output_type": "display_data"
    },
    {
     "name": "stdout",
     "output_type": "stream",
     "text": [
      "Fitting 10 folds for each of 1 candidates, totalling 10 fits\n",
      "Fitting 10 folds for each of 1 candidates, totalling 10 fits\n",
      "Fitting 10 folds for each of 1 candidates, totalling 10 fits\n",
      "Fitting 10 folds for each of 1 candidates, totalling 10 fits\n",
      "Fitting 10 folds for each of 1 candidates, totalling 10 fits\n",
      "Fitting 10 folds for each of 1 candidates, totalling 10 fits\n",
      "Fitting 10 folds for each of 1 candidates, totalling 10 fits\n",
      "Fitting 10 folds for each of 1 candidates, totalling 10 fits\n",
      "Fitting 10 folds for each of 1 candidates, totalling 10 fits\n",
      "Fitting 10 folds for each of 1 candidates, totalling 10 fits\n"
     ]
    }
   ],
   "source": [
    "# Tune the best model\n",
    "tuned_model = tune_model(\n",
    "    best_model,\n",
    "    search_library='scikit-optimize',\n",
    "    search_algorithm='bayesian',\n",
    "    optimize='R2'\n",
    ")"
   ]
  },
  {
   "cell_type": "code",
   "execution_count": 44,
   "id": "9d5e8544",
   "metadata": {},
   "outputs": [
    {
     "name": "stdout",
     "output_type": "stream",
     "text": [
      "Transformation Pipeline and Model Successfully Saved\n",
      "✅ Model trained and saved as 'bigmart_best_model.pkl'\n"
     ]
    }
   ],
   "source": [
    "# Finalize and save\n",
    "final_model = finalize_model(tuned_model)\n",
    "save_model(final_model, 'bigmart_best_model')\n",
    "\n",
    "print(\"✅ Model trained and saved as 'bigmart_best_model.pkl'\")"
   ]
  }
 ],
 "metadata": {
  "kernelspec": {
   "display_name": "pycaret-env",
   "language": "python",
   "name": "python3"
  },
  "language_info": {
   "codemirror_mode": {
    "name": "ipython",
    "version": 3
   },
   "file_extension": ".py",
   "mimetype": "text/x-python",
   "name": "python",
   "nbconvert_exporter": "python",
   "pygments_lexer": "ipython3",
   "version": "3.10.11"
  }
 },
 "nbformat": 4,
 "nbformat_minor": 5
}
