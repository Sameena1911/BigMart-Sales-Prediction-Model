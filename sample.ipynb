{
 "cells": [
  {
   "cell_type": "code",
   "execution_count": 3,
   "id": "486fdea8",
   "metadata": {},
   "outputs": [],
   "source": [
    "import pandas as pd\n",
    "from sklearn.preprocessing import LabelEncoder\n",
    "from sklearn.impute import SimpleImputer"
   ]
  },
  {
   "cell_type": "code",
   "execution_count": 24,
   "id": "52381309",
   "metadata": {},
   "outputs": [],
   "source": [
    "# Load data\n",
    "train_df = pd.read_csv(\"train_v9rqX0R.csv\")\n",
    "test_df = pd.read_csv(\"test_AbJTz2l.csv\")"
   ]
  },
  {
   "cell_type": "code",
   "execution_count": 25,
   "id": "1ec49820",
   "metadata": {},
   "outputs": [
    {
     "data": {
      "text/html": [
       "<div>\n",
       "<style scoped>\n",
       "    .dataframe tbody tr th:only-of-type {\n",
       "        vertical-align: middle;\n",
       "    }\n",
       "\n",
       "    .dataframe tbody tr th {\n",
       "        vertical-align: top;\n",
       "    }\n",
       "\n",
       "    .dataframe thead th {\n",
       "        text-align: right;\n",
       "    }\n",
       "</style>\n",
       "<table border=\"1\" class=\"dataframe\">\n",
       "  <thead>\n",
       "    <tr style=\"text-align: right;\">\n",
       "      <th></th>\n",
       "      <th>Item_Identifier</th>\n",
       "      <th>Item_Weight</th>\n",
       "      <th>Item_Fat_Content</th>\n",
       "      <th>Item_Visibility</th>\n",
       "      <th>Item_Type</th>\n",
       "      <th>Item_MRP</th>\n",
       "      <th>Outlet_Identifier</th>\n",
       "      <th>Outlet_Establishment_Year</th>\n",
       "      <th>Outlet_Size</th>\n",
       "      <th>Outlet_Location_Type</th>\n",
       "      <th>Outlet_Type</th>\n",
       "      <th>Item_Outlet_Sales</th>\n",
       "    </tr>\n",
       "  </thead>\n",
       "  <tbody>\n",
       "    <tr>\n",
       "      <th>0</th>\n",
       "      <td>FDA15</td>\n",
       "      <td>9.30</td>\n",
       "      <td>Low Fat</td>\n",
       "      <td>0.016047</td>\n",
       "      <td>Dairy</td>\n",
       "      <td>249.8092</td>\n",
       "      <td>OUT049</td>\n",
       "      <td>1999</td>\n",
       "      <td>Medium</td>\n",
       "      <td>Tier 1</td>\n",
       "      <td>Supermarket Type1</td>\n",
       "      <td>3735.1380</td>\n",
       "    </tr>\n",
       "    <tr>\n",
       "      <th>1</th>\n",
       "      <td>DRC01</td>\n",
       "      <td>5.92</td>\n",
       "      <td>Regular</td>\n",
       "      <td>0.019278</td>\n",
       "      <td>Soft Drinks</td>\n",
       "      <td>48.2692</td>\n",
       "      <td>OUT018</td>\n",
       "      <td>2009</td>\n",
       "      <td>Medium</td>\n",
       "      <td>Tier 3</td>\n",
       "      <td>Supermarket Type2</td>\n",
       "      <td>443.4228</td>\n",
       "    </tr>\n",
       "    <tr>\n",
       "      <th>2</th>\n",
       "      <td>FDN15</td>\n",
       "      <td>17.50</td>\n",
       "      <td>Low Fat</td>\n",
       "      <td>0.016760</td>\n",
       "      <td>Meat</td>\n",
       "      <td>141.6180</td>\n",
       "      <td>OUT049</td>\n",
       "      <td>1999</td>\n",
       "      <td>Medium</td>\n",
       "      <td>Tier 1</td>\n",
       "      <td>Supermarket Type1</td>\n",
       "      <td>2097.2700</td>\n",
       "    </tr>\n",
       "    <tr>\n",
       "      <th>3</th>\n",
       "      <td>FDX07</td>\n",
       "      <td>19.20</td>\n",
       "      <td>Regular</td>\n",
       "      <td>0.000000</td>\n",
       "      <td>Fruits and Vegetables</td>\n",
       "      <td>182.0950</td>\n",
       "      <td>OUT010</td>\n",
       "      <td>1998</td>\n",
       "      <td>NaN</td>\n",
       "      <td>Tier 3</td>\n",
       "      <td>Grocery Store</td>\n",
       "      <td>732.3800</td>\n",
       "    </tr>\n",
       "    <tr>\n",
       "      <th>4</th>\n",
       "      <td>NCD19</td>\n",
       "      <td>8.93</td>\n",
       "      <td>Low Fat</td>\n",
       "      <td>0.000000</td>\n",
       "      <td>Household</td>\n",
       "      <td>53.8614</td>\n",
       "      <td>OUT013</td>\n",
       "      <td>1987</td>\n",
       "      <td>High</td>\n",
       "      <td>Tier 3</td>\n",
       "      <td>Supermarket Type1</td>\n",
       "      <td>994.7052</td>\n",
       "    </tr>\n",
       "  </tbody>\n",
       "</table>\n",
       "</div>"
      ],
      "text/plain": [
       "  Item_Identifier  Item_Weight Item_Fat_Content  Item_Visibility  \\\n",
       "0           FDA15         9.30          Low Fat         0.016047   \n",
       "1           DRC01         5.92          Regular         0.019278   \n",
       "2           FDN15        17.50          Low Fat         0.016760   \n",
       "3           FDX07        19.20          Regular         0.000000   \n",
       "4           NCD19         8.93          Low Fat         0.000000   \n",
       "\n",
       "               Item_Type  Item_MRP Outlet_Identifier  \\\n",
       "0                  Dairy  249.8092            OUT049   \n",
       "1            Soft Drinks   48.2692            OUT018   \n",
       "2                   Meat  141.6180            OUT049   \n",
       "3  Fruits and Vegetables  182.0950            OUT010   \n",
       "4              Household   53.8614            OUT013   \n",
       "\n",
       "   Outlet_Establishment_Year Outlet_Size Outlet_Location_Type  \\\n",
       "0                       1999      Medium               Tier 1   \n",
       "1                       2009      Medium               Tier 3   \n",
       "2                       1999      Medium               Tier 1   \n",
       "3                       1998         NaN               Tier 3   \n",
       "4                       1987        High               Tier 3   \n",
       "\n",
       "         Outlet_Type  Item_Outlet_Sales  \n",
       "0  Supermarket Type1          3735.1380  \n",
       "1  Supermarket Type2           443.4228  \n",
       "2  Supermarket Type1          2097.2700  \n",
       "3      Grocery Store           732.3800  \n",
       "4  Supermarket Type1           994.7052  "
      ]
     },
     "execution_count": 25,
     "metadata": {},
     "output_type": "execute_result"
    }
   ],
   "source": [
    "train_df.head()"
   ]
  },
  {
   "cell_type": "code",
   "execution_count": 26,
   "id": "7f467178",
   "metadata": {},
   "outputs": [
    {
     "data": {
      "text/plain": [
       "Item_Identifier                 0\n",
       "Item_Weight                  1463\n",
       "Item_Fat_Content                0\n",
       "Item_Visibility                 0\n",
       "Item_Type                       0\n",
       "Item_MRP                        0\n",
       "Outlet_Identifier               0\n",
       "Outlet_Establishment_Year       0\n",
       "Outlet_Size                  2410\n",
       "Outlet_Location_Type            0\n",
       "Outlet_Type                     0\n",
       "Item_Outlet_Sales               0\n",
       "dtype: int64"
      ]
     },
     "execution_count": 26,
     "metadata": {},
     "output_type": "execute_result"
    }
   ],
   "source": [
    "train_df.isnull().sum()"
   ]
  },
  {
   "cell_type": "code",
   "execution_count": 5,
   "id": "975804e3",
   "metadata": {},
   "outputs": [],
   "source": [
    "# Add placeholder for target in test set\n",
    "test_df['Item_Outlet_Sales'] = None"
   ]
  },
  {
   "cell_type": "code",
   "execution_count": 6,
   "id": "b5c9d7dd",
   "metadata": {},
   "outputs": [],
   "source": [
    "# Add source flags\n",
    "train_df['source'] = 'train'\n",
    "test_df['source'] = 'test'"
   ]
  },
  {
   "cell_type": "code",
   "execution_count": 7,
   "id": "0383cb0d",
   "metadata": {},
   "outputs": [
    {
     "name": "stderr",
     "output_type": "stream",
     "text": [
      "C:\\Users\\samee\\AppData\\Local\\Temp\\ipykernel_20128\\3372078863.py:2: FutureWarning: The behavior of DataFrame concatenation with empty or all-NA entries is deprecated. In a future version, this will no longer exclude empty or all-NA columns when determining the result dtypes. To retain the old behavior, exclude the relevant entries before the concat operation.\n",
      "  combined_df = pd.concat([train_df, test_df], ignore_index=True)\n"
     ]
    }
   ],
   "source": [
    "# Combine train and test for uniform preprocessing\n",
    "combined_df = pd.concat([train_df, test_df], ignore_index=True)\n"
   ]
  },
  {
   "cell_type": "code",
   "execution_count": 8,
   "id": "d129a3fe",
   "metadata": {},
   "outputs": [],
   "source": [
    "# Fix categorical inconsistencies\n",
    "combined_df['Item_Fat_Content'] = combined_df['Item_Fat_Content'].replace({\n",
    "    'low fat': 'Low Fat',\n",
    "    'LF': 'Low Fat',\n",
    "    'reg': 'Regular'\n",
    "})\n"
   ]
  },
  {
   "cell_type": "code",
   "execution_count": 9,
   "id": "74f5e4f3",
   "metadata": {},
   "outputs": [],
   "source": [
    "# Bivariate Imputation\n",
    "combined_df['Item_Weight'] = combined_df.groupby('Item_Type')['Item_Weight'].transform(\n",
    "    lambda x: x.fillna(x.mean())\n",
    ")\n",
    "\n",
    "combined_df['Outlet_Size'] = combined_df.groupby(\n",
    "    ['Outlet_Type', 'Outlet_Location_Type']\n",
    ")['Outlet_Size'].transform(lambda x: x.fillna(x.mode()[0] if not x.mode().empty else 'Small'))\n"
   ]
  },
  {
   "cell_type": "code",
   "execution_count": 10,
   "id": "bbe19db0",
   "metadata": {},
   "outputs": [],
   "source": [
    "# Impute any remaining missing numeric values (safety)\n",
    "num_cols = combined_df.select_dtypes(include=['float64', 'int64']).columns\n",
    "num_imputer = SimpleImputer(strategy='mean')\n",
    "combined_df[num_cols] = num_imputer.fit_transform(combined_df[num_cols])\n"
   ]
  },
  {
   "cell_type": "code",
   "execution_count": 11,
   "id": "b3c710b5",
   "metadata": {},
   "outputs": [],
   "source": [
    "# Impute any remaining missing categorical values (safety)\n",
    "cat_cols = combined_df.select_dtypes(include='object').columns\n",
    "cat_imputer = SimpleImputer(strategy='most_frequent')\n",
    "combined_df[cat_cols] = cat_imputer.fit_transform(combined_df[cat_cols])\n"
   ]
  },
  {
   "cell_type": "code",
   "execution_count": 12,
   "id": "bebc0c5d",
   "metadata": {},
   "outputs": [],
   "source": [
    "# Label Encoding (excluding ID/source)\n",
    "categorical_cols = combined_df.select_dtypes(include='object').columns.tolist()\n",
    "categorical_cols = [col for col in categorical_cols if col not in ['Item_Identifier', 'source']]\n",
    "le = LabelEncoder()\n",
    "for col in categorical_cols:\n",
    "    combined_df[col] = le.fit_transform(combined_df[col])\n"
   ]
  },
  {
   "cell_type": "code",
   "execution_count": 13,
   "id": "efd1d14d",
   "metadata": {},
   "outputs": [],
   "source": [
    "\n",
    "# Split back to train and test\n",
    "train_df = combined_df[combined_df['source'] == 'train'].drop('source', axis=1)\n",
    "test_df = combined_df[combined_df['source'] == 'test'].drop(['source', 'Item_Outlet_Sales'], axis=1)\n"
   ]
  },
  {
   "cell_type": "code",
   "execution_count": 14,
   "id": "71f230df",
   "metadata": {},
   "outputs": [
    {
     "name": "stdout",
     "output_type": "stream",
     "text": [
      "✅ Preprocessing Complete!\n"
     ]
    }
   ],
   "source": [
    "# Save processed data\n",
    "train_df.to_csv(\"processed_train.csv\", index=False)\n",
    "test_df.to_csv(\"processed_test.csv\", index=False)\n",
    "\n",
    "print(\"✅ Preprocessing Complete!\")"
   ]
  },
  {
   "cell_type": "code",
   "execution_count": 15,
   "id": "1fd4755e",
   "metadata": {},
   "outputs": [],
   "source": [
    "from pycaret.regression import setup, compare_models, tune_model, finalize_model, save_model, predict_model\n",
    "import pandas as pd\n"
   ]
  },
  {
   "cell_type": "code",
   "execution_count": 16,
   "id": "d2b79e90",
   "metadata": {},
   "outputs": [
    {
     "data": {
      "text/plain": [
       "(8523, 12)"
      ]
     },
     "execution_count": 16,
     "metadata": {},
     "output_type": "execute_result"
    }
   ],
   "source": [
    "df = pd.read_csv(\"processed_train.csv\")\n",
    "df.shape\n"
   ]
  },
  {
   "cell_type": "code",
   "execution_count": 17,
   "id": "4fc8aa69",
   "metadata": {},
   "outputs": [],
   "source": [
    "s = setup(\n",
    "    data=df,\n",
    "    target='Item_Outlet_Sales',\n",
    "    session_id=123,\n",
    "    verbose=False  # optional: can still be used in v3 to reduce logs\n",
    ")\n",
    "\n"
   ]
  },
  {
   "cell_type": "code",
   "execution_count": 18,
   "id": "ccabc14a",
   "metadata": {},
   "outputs": [
    {
     "data": {
      "text/html": [],
      "text/plain": [
       "<IPython.core.display.HTML object>"
      ]
     },
     "metadata": {},
     "output_type": "display_data"
    },
    {
     "data": {
      "text/html": [],
      "text/plain": [
       "<IPython.core.display.HTML object>"
      ]
     },
     "metadata": {},
     "output_type": "display_data"
    },
    {
     "data": {
      "text/html": [],
      "text/plain": [
       "<IPython.core.display.HTML object>"
      ]
     },
     "metadata": {},
     "output_type": "display_data"
    }
   ],
   "source": [
    "best = compare_models()\n"
   ]
  },
  {
   "cell_type": "code",
   "execution_count": 19,
   "id": "7f6c01bf",
   "metadata": {},
   "outputs": [
    {
     "data": {
      "text/html": [],
      "text/plain": [
       "<IPython.core.display.HTML object>"
      ]
     },
     "metadata": {},
     "output_type": "display_data"
    },
    {
     "data": {
      "text/html": [
       "<style type=\"text/css\">\n",
       "#T_26dc2_row10_col0, #T_26dc2_row10_col1, #T_26dc2_row10_col2, #T_26dc2_row10_col3, #T_26dc2_row10_col4, #T_26dc2_row10_col5 {\n",
       "  background: yellow;\n",
       "}\n",
       "</style>\n",
       "<table id=\"T_26dc2\">\n",
       "  <thead>\n",
       "    <tr>\n",
       "      <th class=\"blank level0\" >&nbsp;</th>\n",
       "      <th id=\"T_26dc2_level0_col0\" class=\"col_heading level0 col0\" >MAE</th>\n",
       "      <th id=\"T_26dc2_level0_col1\" class=\"col_heading level0 col1\" >MSE</th>\n",
       "      <th id=\"T_26dc2_level0_col2\" class=\"col_heading level0 col2\" >RMSE</th>\n",
       "      <th id=\"T_26dc2_level0_col3\" class=\"col_heading level0 col3\" >R2</th>\n",
       "      <th id=\"T_26dc2_level0_col4\" class=\"col_heading level0 col4\" >RMSLE</th>\n",
       "      <th id=\"T_26dc2_level0_col5\" class=\"col_heading level0 col5\" >MAPE</th>\n",
       "    </tr>\n",
       "    <tr>\n",
       "      <th class=\"index_name level0\" >Fold</th>\n",
       "      <th class=\"blank col0\" >&nbsp;</th>\n",
       "      <th class=\"blank col1\" >&nbsp;</th>\n",
       "      <th class=\"blank col2\" >&nbsp;</th>\n",
       "      <th class=\"blank col3\" >&nbsp;</th>\n",
       "      <th class=\"blank col4\" >&nbsp;</th>\n",
       "      <th class=\"blank col5\" >&nbsp;</th>\n",
       "    </tr>\n",
       "  </thead>\n",
       "  <tbody>\n",
       "    <tr>\n",
       "      <th id=\"T_26dc2_level0_row0\" class=\"row_heading level0 row0\" >0</th>\n",
       "      <td id=\"T_26dc2_row0_col0\" class=\"data row0 col0\" >874.4609</td>\n",
       "      <td id=\"T_26dc2_row0_col1\" class=\"data row0 col1\" >1574126.9787</td>\n",
       "      <td id=\"T_26dc2_row0_col2\" class=\"data row0 col2\" >1254.6422</td>\n",
       "      <td id=\"T_26dc2_row0_col3\" class=\"data row0 col3\" >0.5334</td>\n",
       "      <td id=\"T_26dc2_row0_col4\" class=\"data row0 col4\" >0.6170</td>\n",
       "      <td id=\"T_26dc2_row0_col5\" class=\"data row0 col5\" >0.6636</td>\n",
       "    </tr>\n",
       "    <tr>\n",
       "      <th id=\"T_26dc2_level0_row1\" class=\"row_heading level0 row1\" >1</th>\n",
       "      <td id=\"T_26dc2_row1_col0\" class=\"data row1 col0\" >787.6962</td>\n",
       "      <td id=\"T_26dc2_row1_col1\" class=\"data row1 col1\" >1246728.8145</td>\n",
       "      <td id=\"T_26dc2_row1_col2\" class=\"data row1 col2\" >1116.5701</td>\n",
       "      <td id=\"T_26dc2_row1_col3\" class=\"data row1 col3\" >0.5498</td>\n",
       "      <td id=\"T_26dc2_row1_col4\" class=\"data row1 col4\" >0.6638</td>\n",
       "      <td id=\"T_26dc2_row1_col5\" class=\"data row1 col5\" >0.7170</td>\n",
       "    </tr>\n",
       "    <tr>\n",
       "      <th id=\"T_26dc2_level0_row2\" class=\"row_heading level0 row2\" >2</th>\n",
       "      <td id=\"T_26dc2_row2_col0\" class=\"data row2 col0\" >839.1641</td>\n",
       "      <td id=\"T_26dc2_row2_col1\" class=\"data row2 col1\" >1623746.1539</td>\n",
       "      <td id=\"T_26dc2_row2_col2\" class=\"data row2 col2\" >1274.2630</td>\n",
       "      <td id=\"T_26dc2_row2_col3\" class=\"data row2 col3\" >0.4016</td>\n",
       "      <td id=\"T_26dc2_row2_col4\" class=\"data row2 col4\" >0.6350</td>\n",
       "      <td id=\"T_26dc2_row2_col5\" class=\"data row2 col5\" >0.6487</td>\n",
       "    </tr>\n",
       "    <tr>\n",
       "      <th id=\"T_26dc2_level0_row3\" class=\"row_heading level0 row3\" >3</th>\n",
       "      <td id=\"T_26dc2_row3_col0\" class=\"data row3 col0\" >883.6650</td>\n",
       "      <td id=\"T_26dc2_row3_col1\" class=\"data row3 col1\" >1631786.5504</td>\n",
       "      <td id=\"T_26dc2_row3_col2\" class=\"data row3 col2\" >1277.4140</td>\n",
       "      <td id=\"T_26dc2_row3_col3\" class=\"data row3 col3\" >0.4782</td>\n",
       "      <td id=\"T_26dc2_row3_col4\" class=\"data row3 col4\" >0.6157</td>\n",
       "      <td id=\"T_26dc2_row3_col5\" class=\"data row3 col5\" >0.6609</td>\n",
       "    </tr>\n",
       "    <tr>\n",
       "      <th id=\"T_26dc2_level0_row4\" class=\"row_heading level0 row4\" >4</th>\n",
       "      <td id=\"T_26dc2_row4_col0\" class=\"data row4 col0\" >819.0530</td>\n",
       "      <td id=\"T_26dc2_row4_col1\" class=\"data row4 col1\" >1424220.1182</td>\n",
       "      <td id=\"T_26dc2_row4_col2\" class=\"data row4 col2\" >1193.4069</td>\n",
       "      <td id=\"T_26dc2_row4_col3\" class=\"data row4 col3\" >0.4907</td>\n",
       "      <td id=\"T_26dc2_row4_col4\" class=\"data row4 col4\" >0.6412</td>\n",
       "      <td id=\"T_26dc2_row4_col5\" class=\"data row4 col5\" >0.6197</td>\n",
       "    </tr>\n",
       "    <tr>\n",
       "      <th id=\"T_26dc2_level0_row5\" class=\"row_heading level0 row5\" >5</th>\n",
       "      <td id=\"T_26dc2_row5_col0\" class=\"data row5 col0\" >880.7474</td>\n",
       "      <td id=\"T_26dc2_row5_col1\" class=\"data row5 col1\" >1607881.5876</td>\n",
       "      <td id=\"T_26dc2_row5_col2\" class=\"data row5 col2\" >1268.0227</td>\n",
       "      <td id=\"T_26dc2_row5_col3\" class=\"data row5 col3\" >0.4283</td>\n",
       "      <td id=\"T_26dc2_row5_col4\" class=\"data row5 col4\" >0.6346</td>\n",
       "      <td id=\"T_26dc2_row5_col5\" class=\"data row5 col5\" >0.6845</td>\n",
       "    </tr>\n",
       "    <tr>\n",
       "      <th id=\"T_26dc2_level0_row6\" class=\"row_heading level0 row6\" >6</th>\n",
       "      <td id=\"T_26dc2_row6_col0\" class=\"data row6 col0\" >861.6818</td>\n",
       "      <td id=\"T_26dc2_row6_col1\" class=\"data row6 col1\" >1507967.1578</td>\n",
       "      <td id=\"T_26dc2_row6_col2\" class=\"data row6 col2\" >1227.9931</td>\n",
       "      <td id=\"T_26dc2_row6_col3\" class=\"data row6 col3\" >0.4506</td>\n",
       "      <td id=\"T_26dc2_row6_col4\" class=\"data row6 col4\" >0.6246</td>\n",
       "      <td id=\"T_26dc2_row6_col5\" class=\"data row6 col5\" >0.6096</td>\n",
       "    </tr>\n",
       "    <tr>\n",
       "      <th id=\"T_26dc2_level0_row7\" class=\"row_heading level0 row7\" >7</th>\n",
       "      <td id=\"T_26dc2_row7_col0\" class=\"data row7 col0\" >862.0253</td>\n",
       "      <td id=\"T_26dc2_row7_col1\" class=\"data row7 col1\" >1473455.3209</td>\n",
       "      <td id=\"T_26dc2_row7_col2\" class=\"data row7 col2\" >1213.8597</td>\n",
       "      <td id=\"T_26dc2_row7_col3\" class=\"data row7 col3\" >0.4515</td>\n",
       "      <td id=\"T_26dc2_row7_col4\" class=\"data row7 col4\" >0.6240</td>\n",
       "      <td id=\"T_26dc2_row7_col5\" class=\"data row7 col5\" >0.6795</td>\n",
       "    </tr>\n",
       "    <tr>\n",
       "      <th id=\"T_26dc2_level0_row8\" class=\"row_heading level0 row8\" >8</th>\n",
       "      <td id=\"T_26dc2_row8_col0\" class=\"data row8 col0\" >871.4060</td>\n",
       "      <td id=\"T_26dc2_row8_col1\" class=\"data row8 col1\" >1406539.1447</td>\n",
       "      <td id=\"T_26dc2_row8_col2\" class=\"data row8 col2\" >1185.9760</td>\n",
       "      <td id=\"T_26dc2_row8_col3\" class=\"data row8 col3\" >0.4986</td>\n",
       "      <td id=\"T_26dc2_row8_col4\" class=\"data row8 col4\" >0.6375</td>\n",
       "      <td id=\"T_26dc2_row8_col5\" class=\"data row8 col5\" >0.7020</td>\n",
       "    </tr>\n",
       "    <tr>\n",
       "      <th id=\"T_26dc2_level0_row9\" class=\"row_heading level0 row9\" >9</th>\n",
       "      <td id=\"T_26dc2_row9_col0\" class=\"data row9 col0\" >824.9558</td>\n",
       "      <td id=\"T_26dc2_row9_col1\" class=\"data row9 col1\" >1333968.9920</td>\n",
       "      <td id=\"T_26dc2_row9_col2\" class=\"data row9 col2\" >1154.9758</td>\n",
       "      <td id=\"T_26dc2_row9_col3\" class=\"data row9 col3\" >0.5148</td>\n",
       "      <td id=\"T_26dc2_row9_col4\" class=\"data row9 col4\" >0.5887</td>\n",
       "      <td id=\"T_26dc2_row9_col5\" class=\"data row9 col5\" >0.6006</td>\n",
       "    </tr>\n",
       "    <tr>\n",
       "      <th id=\"T_26dc2_level0_row10\" class=\"row_heading level0 row10\" >Mean</th>\n",
       "      <td id=\"T_26dc2_row10_col0\" class=\"data row10 col0\" >850.4855</td>\n",
       "      <td id=\"T_26dc2_row10_col1\" class=\"data row10 col1\" >1483042.0819</td>\n",
       "      <td id=\"T_26dc2_row10_col2\" class=\"data row10 col2\" >1216.7124</td>\n",
       "      <td id=\"T_26dc2_row10_col3\" class=\"data row10 col3\" >0.4797</td>\n",
       "      <td id=\"T_26dc2_row10_col4\" class=\"data row10 col4\" >0.6282</td>\n",
       "      <td id=\"T_26dc2_row10_col5\" class=\"data row10 col5\" >0.6586</td>\n",
       "    </tr>\n",
       "    <tr>\n",
       "      <th id=\"T_26dc2_level0_row11\" class=\"row_heading level0 row11\" >Std</th>\n",
       "      <td id=\"T_26dc2_row11_col0\" class=\"data row11 col0\" >29.9969</td>\n",
       "      <td id=\"T_26dc2_row11_col1\" class=\"data row11 col1\" >124055.0475</td>\n",
       "      <td id=\"T_26dc2_row11_col2\" class=\"data row11 col2\" >51.5086</td>\n",
       "      <td id=\"T_26dc2_row11_col3\" class=\"data row11 col3\" >0.0446</td>\n",
       "      <td id=\"T_26dc2_row11_col4\" class=\"data row11 col4\" >0.0187</td>\n",
       "      <td id=\"T_26dc2_row11_col5\" class=\"data row11 col5\" >0.0372</td>\n",
       "    </tr>\n",
       "  </tbody>\n",
       "</table>\n"
      ],
      "text/plain": [
       "<pandas.io.formats.style.Styler at 0x1d64e5f43d0>"
      ]
     },
     "metadata": {},
     "output_type": "display_data"
    },
    {
     "data": {
      "text/html": [],
      "text/plain": [
       "<IPython.core.display.HTML object>"
      ]
     },
     "metadata": {},
     "output_type": "display_data"
    },
    {
     "name": "stdout",
     "output_type": "stream",
     "text": [
      "Fitting 10 folds for each of 1 candidates, totalling 10 fits\n",
      "Fitting 10 folds for each of 1 candidates, totalling 10 fits\n",
      "Fitting 10 folds for each of 1 candidates, totalling 10 fits\n",
      "Fitting 10 folds for each of 1 candidates, totalling 10 fits\n",
      "Fitting 10 folds for each of 1 candidates, totalling 10 fits\n",
      "Fitting 10 folds for each of 1 candidates, totalling 10 fits\n",
      "Fitting 10 folds for each of 1 candidates, totalling 10 fits\n",
      "Fitting 10 folds for each of 1 candidates, totalling 10 fits\n",
      "Fitting 10 folds for each of 1 candidates, totalling 10 fits\n",
      "Fitting 10 folds for each of 1 candidates, totalling 10 fits\n"
     ]
    }
   ],
   "source": [
    "tuned = tune_model(best, \n",
    "                   search_library='scikit-optimize', \n",
    "                   search_algorithm='bayesian', \n",
    "                   optimize='R2')\n"
   ]
  },
  {
   "cell_type": "code",
   "execution_count": 20,
   "id": "72c14e81",
   "metadata": {},
   "outputs": [
    {
     "name": "stdout",
     "output_type": "stream",
     "text": [
      "Transformation Pipeline and Model Successfully Saved\n"
     ]
    },
    {
     "data": {
      "text/plain": [
       "(Pipeline(memory=Memory(location=None),\n",
       "          steps=[('numerical_imputer',\n",
       "                  TransformerWrapper(include=['Item_Weight', 'Item_Fat_Content',\n",
       "                                              'Item_Visibility', 'Item_Type',\n",
       "                                              'Item_MRP', 'Outlet_Identifier',\n",
       "                                              'Outlet_Establishment_Year',\n",
       "                                              'Outlet_Size',\n",
       "                                              'Outlet_Location_Type',\n",
       "                                              'Outlet_Type'],\n",
       "                                     transformer=SimpleImputer())),\n",
       "                 ('categorical_imputer',\n",
       "                  TransformerWrapper(include=['...\n",
       "                  TransformerWrapper(include=['Item_Identifier'],\n",
       "                                     transformer=TargetEncoder(cols=['Item_Identifier'],\n",
       "                                                               handle_missing='return_nan'))),\n",
       "                 ('actual_estimator',\n",
       "                  GradientBoostingRegressor(learning_rate=0.0238190072917794,\n",
       "                                            max_features=0.4284489606984907,\n",
       "                                            min_impurity_decrease=0.002646746704757545,\n",
       "                                            min_samples_leaf=5,\n",
       "                                            min_samples_split=9,\n",
       "                                            n_estimators=239, random_state=123,\n",
       "                                            subsample=0.7687727671549709))]),\n",
       " 'bigmart_best_model.pkl')"
      ]
     },
     "execution_count": 20,
     "metadata": {},
     "output_type": "execute_result"
    }
   ],
   "source": [
    "final_model = finalize_model(tuned)\n",
    "save_model(final_model, 'bigmart_best_model')\n"
   ]
  }
 ],
 "metadata": {
  "kernelspec": {
   "display_name": "pycaret-env",
   "language": "python",
   "name": "python3"
  },
  "language_info": {
   "codemirror_mode": {
    "name": "ipython",
    "version": 3
   },
   "file_extension": ".py",
   "mimetype": "text/x-python",
   "name": "python",
   "nbconvert_exporter": "python",
   "pygments_lexer": "ipython3",
   "version": "3.10.11"
  }
 },
 "nbformat": 4,
 "nbformat_minor": 5
}
